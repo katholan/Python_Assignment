{
 "cells": [
  {
   "cell_type": "markdown",
   "metadata": {
    "deletable": true,
    "editable": true
   },
   "source": [
    "# Python Assignment\n",
    "## Katerina Holan\n",
    "## EEOB 546X\n",
    "### 3/31/2017"
   ]
  },
  {
   "cell_type": "code",
   "execution_count": 2,
   "metadata": {
    "collapsed": true,
    "deletable": true,
    "editable": true,
    "scrolled": true
   },
   "outputs": [],
   "source": [
    "#make sure biopython is installed"
   ]
  },
  {
   "cell_type": "code",
   "execution_count": 3,
   "metadata": {
    "collapsed": false,
    "deletable": true,
    "editable": true,
    "scrolled": true
   },
   "outputs": [],
   "source": [
    "from Bio import SeqIO\n",
    "from Bio.Data import CodonTable\n",
    "import pandas as pd"
   ]
  },
  {
   "cell_type": "markdown",
   "metadata": {
    "deletable": true,
    "editable": true
   },
   "source": [
    "### 1. Document Dr. X's function with comments and with markdown text in your Jupyter notebook"
   ]
  },
  {
   "cell_type": "code",
   "execution_count": 4,
   "metadata": {
    "collapsed": true,
    "deletable": true,
    "editable": true,
    "scrolled": true
   },
   "outputs": [],
   "source": [
    "def get_sequences_from_file(fasta_fn):                        #defines a new function called get_sequences_from_file with input file fasta_fn\n",
    "    sequence_data_dict = {}                                   #creates a new, empty dictionary called sequence_data_dict\n",
    "    for record in SeqIO.parse(fasta_fn, \"fasta\"):             #for every record in your file fasta_fn, the biopython function SeqIO.parse will find the sequences in the file \n",
    "        description = record.description.split()              #\n",
    "        species_name = description[1] + \" \" + description[2]  #pulls the species name from the fasta file\n",
    "        sequence_data_dict[species_name] = record.seq         #assigns the sequence (value) to its species name (key) in the dictionary\n",
    "    return(sequence_data_dict)                                #returns your finished dictionary of species name and sequence"
   ]
  },
  {
   "cell_type": "markdown",
   "metadata": {},
   "source": [
    "### 2. Write a function that translates a string of nucleotides to amino acids based on Dr. X's pseudo-code suggestion"
   ]
  },
  {
   "cell_type": "code",
   "execution_count": 5,
   "metadata": {
    "collapsed": false,
    "scrolled": true
   },
   "outputs": [],
   "source": [
    "def translate_function(string_nucleotides):                                          #define new function to translate a string of nucleotides\n",
    "     mito_table = CodonTable.unambiguous_dna_by_name[\"Vertebrate Mitochondrial\"]     #codon table from DNA\n",
    "     aa_seq_string = \"\"                                                              #create variable to hold new amino acid sequence \n",
    "     for i in range(0, len(string_nucleotides), 3):                                  #takes every thrird variable after 1st variable (eg, 1st, 4th, 7th, etc) until the end of your string\n",
    "         codon=string_nucleotides[i]+string_nucleotides[i+1]+string_nucleotides[i+2] #define codon as each set of 3 nucleotides\n",
    "         if codon == \"TAA\" or codon == \"TAG\" or codon == \"AGA\" or codon == \"AGG\":    #if the codon is a stop codon, this will stop the function before that stop codon\n",
    "                break\n",
    "         else:                                                                       #if it isn't a stop codon, the new amino acid will be added to the end of your aa_seq_string variable\n",
    "                aa_seq_string += mito_table.forward_table[codon]\n",
    "     return(aa_seq_string)                                                           #function will return finished amino acid sequence"
   ]
  },
  {
   "cell_type": "code",
   "execution_count": 7,
   "metadata": {
    "collapsed": false,
    "scrolled": true
   },
   "outputs": [
    {
     "name": "stdout",
     "output_type": "stream",
     "text": [
      "Table 2 Vertebrate Mitochondrial, SGC1\n",
      "\n",
      "  |  T      |  C      |  A      |  G      |\n",
      "--+---------+---------+---------+---------+--\n",
      "T | TTT F   | TCT S   | TAT Y   | TGT C   | T\n",
      "T | TTC F   | TCC S   | TAC Y   | TGC C   | C\n",
      "T | TTA L   | TCA S   | TAA Stop| TGA W   | A\n",
      "T | TTG L   | TCG S   | TAG Stop| TGG W   | G\n",
      "--+---------+---------+---------+---------+--\n",
      "C | CTT L   | CCT P   | CAT H   | CGT R   | T\n",
      "C | CTC L   | CCC P   | CAC H   | CGC R   | C\n",
      "C | CTA L   | CCA P   | CAA Q   | CGA R   | A\n",
      "C | CTG L   | CCG P   | CAG Q   | CGG R   | G\n",
      "--+---------+---------+---------+---------+--\n",
      "A | ATT I(s)| ACT T   | AAT N   | AGT S   | T\n",
      "A | ATC I(s)| ACC T   | AAC N   | AGC S   | C\n",
      "A | ATA M(s)| ACA T   | AAA K   | AGA Stop| A\n",
      "A | ATG M(s)| ACG T   | AAG K   | AGG Stop| G\n",
      "--+---------+---------+---------+---------+--\n",
      "G | GTT V   | GCT A   | GAT D   | GGT G   | T\n",
      "G | GTC V   | GCC A   | GAC D   | GGC G   | C\n",
      "G | GTA V   | GCA A   | GAA E   | GGA G   | A\n",
      "G | GTG V(s)| GCG A   | GAG E   | GGG G   | G\n",
      "--+---------+---------+---------+---------+--\n"
     ]
    }
   ],
   "source": [
    "mito_table = CodonTable.unambiguous_dna_by_name[\"Vertebrate Mitochondrial\"]\n",
    "print(mito_table)"
   ]
  },
  {
   "cell_type": "code",
   "execution_count": 8,
   "metadata": {
    "collapsed": false,
    "scrolled": true
   },
   "outputs": [
    {
     "data": {
      "text/plain": [
       "'DLMGN'"
      ]
     },
     "execution_count": 8,
     "metadata": {},
     "output_type": "execute_result"
    }
   ],
   "source": [
    "#test sequence.  Has stop codon AGG at +16\n",
    "seq = 'GACTTAATGGGCAATAGGCAAGCACTTGAAAAAGATGCCAACGACATGAAAACACAAGACAA'\n",
    "translate_function(seq)"
   ]
  },
  {
   "cell_type": "markdown",
   "metadata": {},
   "source": [
    "### 3. Write an alternative translation function"
   ]
  },
  {
   "cell_type": "code",
   "execution_count": 22,
   "metadata": {
    "collapsed": false,
    "scrolled": true
   },
   "outputs": [],
   "source": [
    "#these are from the biopython package.  they are used with the translate function\n",
    "from Bio.Seq import Seq         \n",
    "from Bio.Alphabet import IUPAC"
   ]
  },
  {
   "cell_type": "code",
   "execution_count": 35,
   "metadata": {
    "collapsed": false,
    "scrolled": true
   },
   "outputs": [
    {
     "name": "stderr",
     "output_type": "stream",
     "text": [
      "C:\\ProgramData\\Anaconda3\\lib\\site-packages\\Bio\\Seq.py:2071: BiopythonWarning: Partial codon, len(sequence) not a multiple of three. Explicitly trim the sequence or add trailing N before translation. This may become an error in future.\n",
      "  BiopythonWarning)\n"
     ]
    },
    {
     "data": {
      "text/plain": [
       "Seq('DLMGNRQALEKDANDMKTQD', IUPACProtein())"
      ]
     },
     "execution_count": 35,
     "metadata": {},
     "output_type": "execute_result"
    }
   ],
   "source": [
    "#practice with the .translate() function\n",
    "coding_dna = Seq(\"GACTTAATGGGCAATAGGCAAGCACTTGAAAAAGATGCCAACGACATGAAAACACAAGACAA\", IUPAC.unambiguous_dna)\n",
    "coding_dna.translate()\n",
    "\n",
    "#translated sequence ignores stop codon and continues with the translation"
   ]
  },
  {
   "cell_type": "code",
   "execution_count": 54,
   "metadata": {
    "collapsed": false,
    "scrolled": true
   },
   "outputs": [],
   "source": [
    "def my_translate(string_nucleotides):                                                  #define new fuction that takes a string of nucleotides\n",
    "    seq = Seq(string_nucleotides, IUPAC.unambiguous_dna)                               #assign 'seq' as the sequence from string_nucleotides that is IUPAC unambiguous dna\n",
    "    aa_seq_string = seq.translate(table = \"Vertebrate Mitochondrial\", to_stop = True)  #assign result of the translate function to aa_seq_string.  the arguments tell the function to us the vertebrate mitochondrial codon table and to stop at the first stop codon it sees\n",
    "    print(aa_seq_string)                                                               #print final amino acid sequence"
   ]
  },
  {
   "cell_type": "code",
   "execution_count": 55,
   "metadata": {
    "collapsed": false,
    "scrolled": true
   },
   "outputs": [
    {
     "name": "stdout",
     "output_type": "stream",
     "text": [
      "DLMGN\n"
     ]
    },
    {
     "name": "stderr",
     "output_type": "stream",
     "text": [
      "C:\\ProgramData\\Anaconda3\\lib\\site-packages\\Bio\\Seq.py:2071: BiopythonWarning: Partial codon, len(sequence) not a multiple of three. Explicitly trim the sequence or add trailing N before translation. This may become an error in future.\n",
      "  BiopythonWarning)\n"
     ]
    }
   ],
   "source": [
    "#testing my_translate() function. gives amino acid sequence identical to the one in part one\n",
    "seq = 'GACTTAATGGGCAATAGGCAAGCACTTGAAAAAGATGCCAACGACATGAAAACACAAGACAA'\n",
    "my_translate(seq)\n",
    "\n",
    "#gives an error that the sequence is not a multiple of three.  \n",
    "#this should not matter since our sequences will stop at stop codons, not when it reaches the end of the sequence."
   ]
  },
  {
   "cell_type": "markdown",
   "metadata": {},
   "source": [
    "### 4. Write a function (or 3 functions) that calculates the proportion of each of 3 amino acid categories in a sequence"
   ]
  },
  {
   "cell_type": "code",
   "execution_count": 63,
   "metadata": {
    "collapsed": false,
    "scrolled": true
   },
   "outputs": [],
   "source": [
    "#testing sequence from maizegdb.org\n",
    "#this is the amino acid sequence for the maize gene glossy15, which is involved in juvenile to adult transition\n",
    "gl15 = 'MAATRRAFFHSAVDGIARAGPGEAELLPAPPQVGRPVEGASSMVFGFPVPRPTMPDSRPAAVTQQFFPPTTTAAQQATMEEQCHVPAGSAAEQWVRSSASRKSRRGPRSRSSQYRGVTFYRRTGRWESHIWDCGKQVYLGGFDTAQAAARAYDQAAIKFRGLNADINFTLDDYKDEMKKMKDLSKEEFVLVLRRQGAGFVRGSSRFRGVTQHKCGKWEARIGQLMGKKYVYLGLYDTETEAAQHANQGI'"
   ]
  },
  {
   "cell_type": "code",
   "execution_count": 279,
   "metadata": {
    "collapsed": false,
    "scrolled": true
   },
   "outputs": [],
   "source": [
    "def number_charged_aa_function(aa_seq_string):     #define function\n",
    "    charged = ['K','R','D','E']                    #create list of charged amino acids\n",
    "    total_charged_aa = 0                           #set total_charged_aa equal to zero to start\n",
    "    for aa in charged:                             #for loop to count number of amino acids\n",
    "        count = aa_seq_string.count(aa)            #count each type of amino acid\n",
    "        total_charged_aa += count                  #add the counts to total_charged_aa to get total number of charged amino acids\n",
    "    return total_charged_aa                        #return total count of charged amino acid\n",
    "\n",
    "def number_polar_aa_function(aa_seq_string):       #to avoid confusion in the output, I created separate functions for polar and hydrophobic amino acids\n",
    "    polar = ['Q','N','H','S','T','Y','C','M','W']\n",
    "    total_polar_aa = 0\n",
    "    for aa in polar:\n",
    "        count = aa_seq_string.count(aa)\n",
    "        total_polar_aa += count\n",
    "    return total_polar_aa\n",
    "\n",
    "    \n",
    "def number_hydrophobic_aa_function(aa_seq_string):\n",
    "    hydrophobic = ['A','I','L','F','V','P','G']\n",
    "    total_hydrophobic_aa = 0\n",
    "    for aa in hydrophobic:\n",
    "        count = aa_seq_string.count(aa)\n",
    "        total_hydrophobic_aa += count\n",
    "    return total_hydrophobic_aa"
   ]
  },
  {
   "cell_type": "markdown",
   "metadata": {},
   "source": [
    "#### Testing my functions with glossy15"
   ]
  },
  {
   "cell_type": "code",
   "execution_count": 280,
   "metadata": {
    "collapsed": false,
    "scrolled": true
   },
   "outputs": [
    {
     "data": {
      "text/plain": [
       "60"
      ]
     },
     "execution_count": 280,
     "metadata": {},
     "output_type": "execute_result"
    }
   ],
   "source": [
    "number_charged_aa_function(gl15)"
   ]
  },
  {
   "cell_type": "code",
   "execution_count": 281,
   "metadata": {
    "collapsed": false,
    "scrolled": true
   },
   "outputs": [
    {
     "data": {
      "text/plain": [
       "76"
      ]
     },
     "execution_count": 281,
     "metadata": {},
     "output_type": "execute_result"
    }
   ],
   "source": [
    "number_polar_aa_function(gl15)"
   ]
  },
  {
   "cell_type": "code",
   "execution_count": 282,
   "metadata": {
    "collapsed": false,
    "scrolled": true
   },
   "outputs": [
    {
     "data": {
      "text/plain": [
       "113"
      ]
     },
     "execution_count": 282,
     "metadata": {},
     "output_type": "execute_result"
    }
   ],
   "source": [
    "number_hydrophobic_aa_function(gl15)"
   ]
  },
  {
   "cell_type": "markdown",
   "metadata": {},
   "source": [
    "## Main"
   ]
  },
  {
   "cell_type": "code",
   "execution_count": 283,
   "metadata": {
    "collapsed": true,
    "deletable": true,
    "editable": true,
    "scrolled": true
   },
   "outputs": [],
   "source": [
    "cytb_seqs = get_sequences_from_file(\"bears_cytb.fasta\") \n",
    "bear_df = pd.read_csv(\"bears_data.csv\")\n",
    "species_list = list(bear_df.species)"
   ]
  },
  {
   "cell_type": "code",
   "execution_count": 284,
   "metadata": {
    "collapsed": false
   },
   "outputs": [
    {
     "data": {
      "text/plain": [
       "Seq('ATGATCAACATCCGAAAAACTCATCCATTAGTTAAAATTATCAACAACTCATTC...AGA', SingleLetterAlphabet())"
      ]
     },
     "execution_count": 284,
     "metadata": {},
     "output_type": "execute_result"
    }
   ],
   "source": [
    "cytb_seqs\n",
    "cytb_seqs['Ailuropoda melanoleuca']"
   ]
  },
  {
   "cell_type": "code",
   "execution_count": 285,
   "metadata": {
    "collapsed": false,
    "scrolled": true
   },
   "outputs": [
    {
     "data": {
      "text/html": [
       "<div>\n",
       "<table border=\"1\" class=\"dataframe\">\n",
       "  <thead>\n",
       "    <tr style=\"text-align: right;\">\n",
       "      <th></th>\n",
       "      <th>species</th>\n",
       "      <th>mass</th>\n",
       "      <th>charged</th>\n",
       "      <th>polar</th>\n",
       "      <th>hydrophobic</th>\n",
       "    </tr>\n",
       "  </thead>\n",
       "  <tbody>\n",
       "    <tr>\n",
       "      <th>0</th>\n",
       "      <td>Ursus spelaeus</td>\n",
       "      <td>550.800</td>\n",
       "      <td>NaN</td>\n",
       "      <td>NaN</td>\n",
       "      <td>NaN</td>\n",
       "    </tr>\n",
       "    <tr>\n",
       "      <th>1</th>\n",
       "      <td>Ursus arctos</td>\n",
       "      <td>203.500</td>\n",
       "      <td>NaN</td>\n",
       "      <td>NaN</td>\n",
       "      <td>NaN</td>\n",
       "    </tr>\n",
       "    <tr>\n",
       "      <th>2</th>\n",
       "      <td>Ursus thibetanus</td>\n",
       "      <td>99.714</td>\n",
       "      <td>NaN</td>\n",
       "      <td>NaN</td>\n",
       "      <td>NaN</td>\n",
       "    </tr>\n",
       "    <tr>\n",
       "      <th>3</th>\n",
       "      <td>Melursus ursinus</td>\n",
       "      <td>100.030</td>\n",
       "      <td>NaN</td>\n",
       "      <td>NaN</td>\n",
       "      <td>NaN</td>\n",
       "    </tr>\n",
       "    <tr>\n",
       "      <th>4</th>\n",
       "      <td>Ursus americanus</td>\n",
       "      <td>110.560</td>\n",
       "      <td>NaN</td>\n",
       "      <td>NaN</td>\n",
       "      <td>NaN</td>\n",
       "    </tr>\n",
       "    <tr>\n",
       "      <th>5</th>\n",
       "      <td>Helarctos malayanus</td>\n",
       "      <td>47.020</td>\n",
       "      <td>NaN</td>\n",
       "      <td>NaN</td>\n",
       "      <td>NaN</td>\n",
       "    </tr>\n",
       "    <tr>\n",
       "      <th>6</th>\n",
       "      <td>Ailuropoda melanoleuca</td>\n",
       "      <td>118.200</td>\n",
       "      <td>NaN</td>\n",
       "      <td>NaN</td>\n",
       "      <td>NaN</td>\n",
       "    </tr>\n",
       "    <tr>\n",
       "      <th>7</th>\n",
       "      <td>Tremarctos ornatus</td>\n",
       "      <td>140.700</td>\n",
       "      <td>NaN</td>\n",
       "      <td>NaN</td>\n",
       "      <td>NaN</td>\n",
       "    </tr>\n",
       "    <tr>\n",
       "      <th>8</th>\n",
       "      <td>Ursus maritimus</td>\n",
       "      <td>425.100</td>\n",
       "      <td>NaN</td>\n",
       "      <td>NaN</td>\n",
       "      <td>NaN</td>\n",
       "    </tr>\n",
       "  </tbody>\n",
       "</table>\n",
       "</div>"
      ],
      "text/plain": [
       "                  species     mass  charged  polar  hydrophobic\n",
       "0          Ursus spelaeus  550.800      NaN    NaN          NaN\n",
       "1            Ursus arctos  203.500      NaN    NaN          NaN\n",
       "2        Ursus thibetanus   99.714      NaN    NaN          NaN\n",
       "3        Melursus ursinus  100.030      NaN    NaN          NaN\n",
       "4        Ursus americanus  110.560      NaN    NaN          NaN\n",
       "5     Helarctos malayanus   47.020      NaN    NaN          NaN\n",
       "6  Ailuropoda melanoleuca  118.200      NaN    NaN          NaN\n",
       "7      Tremarctos ornatus  140.700      NaN    NaN          NaN\n",
       "8         Ursus maritimus  425.100      NaN    NaN          NaN"
      ]
     },
     "execution_count": 285,
     "metadata": {},
     "output_type": "execute_result"
    }
   ],
   "source": [
    "bear_df"
   ]
  },
  {
   "cell_type": "markdown",
   "metadata": {},
   "source": [
    "### 5. In the MAIN part of the script, call your functions from 3 (or 2) and 4 and complete the empty columns in the dataframe"
   ]
  },
  {
   "cell_type": "code",
   "execution_count": 316,
   "metadata": {
    "collapsed": false
   },
   "outputs": [
    {
     "data": {
      "text/plain": [
       "'MINIRKTHPLVKIINNSFIDLPTPSNISTWWNFGSLLGVCLILQILTGLFLAMHYTSDTATAFSSVAHICRDVNYGWFIRYMHANGASMFFICLFMHVGRGLYYGSYLFPETWNIGIILLLTIMATAFMGYVLPWGQMSFWGATVITNLLSAIPYIGTNLVEWIWGGFSVDKATLTRFFAFHFILPFIISALAMVHLLFLHETGSNNPSGIPSDPDKIPFYPYHTIKDILGVLFLVLALMTLALFSPDLLGDPDNYTPANPLSTPPHIKPEWYFLFAYAILRSIPNKLGGVLALIFSILILTIIPLLHTSKQRSMMFRPLSQCLFWLLVADLLTLTWIGGQPVEHPFIIIGQLASILYFTILLVLMPITSIIENSLSKW'"
      ]
     },
     "execution_count": 316,
     "metadata": {},
     "output_type": "execute_result"
    }
   ],
   "source": [
    "#practice run\n",
    "ail_translate = translate_function(cytb_seqs['Ailuropoda melanoleuca'])\n",
    "ail_translate"
   ]
  },
  {
   "cell_type": "code",
   "execution_count": 287,
   "metadata": {
    "collapsed": false
   },
   "outputs": [
    {
     "data": {
      "text/plain": [
       "34"
      ]
     },
     "execution_count": 287,
     "metadata": {},
     "output_type": "execute_result"
    }
   ],
   "source": [
    "ail_charged = number_charged_aa_function(ail_translate)\n",
    "ail_charged"
   ]
  },
  {
   "cell_type": "code",
   "execution_count": 288,
   "metadata": {
    "collapsed": false
   },
   "outputs": [
    {
     "data": {
      "text/plain": [
       "130"
      ]
     },
     "execution_count": 288,
     "metadata": {},
     "output_type": "execute_result"
    }
   ],
   "source": [
    "ail_polar = number_polar_aa_function(ail_translate)\n",
    "ail_polar"
   ]
  },
  {
   "cell_type": "code",
   "execution_count": 289,
   "metadata": {
    "collapsed": false
   },
   "outputs": [
    {
     "data": {
      "text/plain": [
       "215"
      ]
     },
     "execution_count": 289,
     "metadata": {},
     "output_type": "execute_result"
    }
   ],
   "source": [
    "ail_hydrophobic = number_hydrophobic_aa_function(ail_translate)\n",
    "ail_hydrophobic"
   ]
  },
  {
   "cell_type": "code",
   "execution_count": 315,
   "metadata": {
    "collapsed": false,
    "scrolled": true
   },
   "outputs": [
    {
     "data": {
      "text/html": [
       "<div>\n",
       "<table border=\"1\" class=\"dataframe\">\n",
       "  <thead>\n",
       "    <tr style=\"text-align: right;\">\n",
       "      <th></th>\n",
       "      <th>species</th>\n",
       "      <th>mass</th>\n",
       "      <th>charged</th>\n",
       "      <th>polar</th>\n",
       "      <th>hydrophobic</th>\n",
       "    </tr>\n",
       "  </thead>\n",
       "  <tbody>\n",
       "    <tr>\n",
       "      <th>0</th>\n",
       "      <td>Ursus spelaeus</td>\n",
       "      <td>550.800</td>\n",
       "      <td>35.0</td>\n",
       "      <td>125.0</td>\n",
       "      <td>219.0</td>\n",
       "    </tr>\n",
       "    <tr>\n",
       "      <th>1</th>\n",
       "      <td>Ursus arctos</td>\n",
       "      <td>203.500</td>\n",
       "      <td>35.0</td>\n",
       "      <td>123.0</td>\n",
       "      <td>221.0</td>\n",
       "    </tr>\n",
       "    <tr>\n",
       "      <th>2</th>\n",
       "      <td>Ursus thibetanus</td>\n",
       "      <td>99.714</td>\n",
       "      <td>35.0</td>\n",
       "      <td>124.0</td>\n",
       "      <td>220.0</td>\n",
       "    </tr>\n",
       "    <tr>\n",
       "      <th>3</th>\n",
       "      <td>Melursus ursinus</td>\n",
       "      <td>100.030</td>\n",
       "      <td>34.0</td>\n",
       "      <td>129.0</td>\n",
       "      <td>216.0</td>\n",
       "    </tr>\n",
       "    <tr>\n",
       "      <th>4</th>\n",
       "      <td>Ursus americanus</td>\n",
       "      <td>110.560</td>\n",
       "      <td>34.0</td>\n",
       "      <td>128.0</td>\n",
       "      <td>217.0</td>\n",
       "    </tr>\n",
       "    <tr>\n",
       "      <th>5</th>\n",
       "      <td>Helarctos malayanus</td>\n",
       "      <td>47.020</td>\n",
       "      <td>35.0</td>\n",
       "      <td>129.0</td>\n",
       "      <td>215.0</td>\n",
       "    </tr>\n",
       "    <tr>\n",
       "      <th>6</th>\n",
       "      <td>Ailuropoda melanoleuca</td>\n",
       "      <td>118.200</td>\n",
       "      <td>34.0</td>\n",
       "      <td>130.0</td>\n",
       "      <td>215.0</td>\n",
       "    </tr>\n",
       "    <tr>\n",
       "      <th>7</th>\n",
       "      <td>Tremarctos ornatus</td>\n",
       "      <td>140.700</td>\n",
       "      <td>34.0</td>\n",
       "      <td>127.0</td>\n",
       "      <td>218.0</td>\n",
       "    </tr>\n",
       "    <tr>\n",
       "      <th>8</th>\n",
       "      <td>Ursus maritimus</td>\n",
       "      <td>425.100</td>\n",
       "      <td>35.0</td>\n",
       "      <td>124.0</td>\n",
       "      <td>220.0</td>\n",
       "    </tr>\n",
       "  </tbody>\n",
       "</table>\n",
       "</div>"
      ],
      "text/plain": [
       "                  species     mass  charged  polar  hydrophobic\n",
       "0          Ursus spelaeus  550.800     35.0  125.0        219.0\n",
       "1            Ursus arctos  203.500     35.0  123.0        221.0\n",
       "2        Ursus thibetanus   99.714     35.0  124.0        220.0\n",
       "3        Melursus ursinus  100.030     34.0  129.0        216.0\n",
       "4        Ursus americanus  110.560     34.0  128.0        217.0\n",
       "5     Helarctos malayanus   47.020     35.0  129.0        215.0\n",
       "6  Ailuropoda melanoleuca  118.200     34.0  130.0        215.0\n",
       "7      Tremarctos ornatus  140.700     34.0  127.0        218.0\n",
       "8         Ursus maritimus  425.100     35.0  124.0        220.0"
      ]
     },
     "execution_count": 315,
     "metadata": {},
     "output_type": "execute_result"
    }
   ],
   "source": [
    "i = 0                                                                          #used to iterate through the rows\n",
    "for value in cytb_seqs.values():                                               #pulls values from your seqs dictionary, aka the species names\n",
    "    translation = translate_function(value)                                    #translate seqs\n",
    "    bear_df.loc[i,'charged'] = number_charged_aa_function(translation)         #count number of charged aas\n",
    "    bear_df.loc[i,'polar'] = number_polar_aa_function(translation)             #count number of polar aas\n",
    "    bear_df.loc[i,'hydrophobic'] = number_hydrophobic_aa_function(translation) #count number of hydrophobic aas\n",
    "    i = i + 1                                                                  #add one to i so that next time thorugh for loop will look at the next row\n",
    "bear_df                                                                        #view final filled-in dataframe"
   ]
  },
  {
   "cell_type": "markdown",
   "metadata": {},
   "source": [
    "### 6. Plot a bar-chart of adult mass per species"
   ]
  },
  {
   "cell_type": "code",
   "execution_count": 319,
   "metadata": {
    "collapsed": false,
    "scrolled": true
   },
   "outputs": [],
   "source": [
    "%matplotlib inline\n",
    "from ggplot import *"
   ]
  },
  {
   "cell_type": "code",
   "execution_count": 348,
   "metadata": {
    "collapsed": false
   },
   "outputs": [
    {
     "data": {
      "image/png": "[encoded data removed]",
      "text/plain": [
       "<matplotlib.figure.Figure at 0xe0167f0>"
      ]
     },
     "metadata": {},
     "output_type": "display_data"
    },
    {
     "data": {
      "text/plain": [
       "<ggplot: (16733416)>"
      ]
     },
     "execution_count": 348,
     "metadata": {},
     "output_type": "execute_result"
    }
   ],
   "source": [
    "ggplot(aesthetics= aes(x = 'species', weight = 'mass'), data = bear_df) + \\\n",
    "geom_bar() + \\\n",
    "theme(title = 'Adult Mass per Bear Species', axis_title_y = 'Mass', axis_title_x = 'Bear Species') \n",
    "#when I tilt the labels, they convert to their underlying numbers, so I have left them as is.  \n",
    "#The graph has arranged the species in alphabetical order"
   ]
  },
  {
   "cell_type": "markdown",
   "metadata": {},
   "source": [
    "### Ursus spelaeus is the largest species in this dataset.  After a quick Google search that led me to Wikipedia (https://en.wikipedia.org/wiki/Cave_bear), I found out that this bear's common name is the cave bear, and that it is a very large, extinct species of bear that lived in Europe and Asia.  It's interesting that the mass can be estimated given the fact that this species has been extinct for 24,000 years."
   ]
  },
  {
   "cell_type": "markdown",
   "metadata": {},
   "source": [
    "### 7. Plot a graph that shows the amino-acid type proportions"
   ]
  },
  {
   "cell_type": "code",
   "execution_count": 360,
   "metadata": {
    "collapsed": false,
    "scrolled": true
   },
   "outputs": [
    {
     "data": {
      "image/png": "[encoded data removed]",
      "text/plain": [
       "<matplotlib.figure.Figure at 0x1055fe48>"
      ]
     },
     "metadata": {},
     "output_type": "display_data"
    }
   ],
   "source": [
    "import matplotlib.pyplot as plt\n",
    "import matplotlib.patches as mpatches\n",
    "import matplotlib.pyplot as plt\n",
    "\n",
    "\n",
    "#the following code was modified from <https://chrisalbon.com/python/matplotlib_percentage_stacked_bar_plot.html>\n",
    "\n",
    "\n",
    "f, ax = plt.subplots(1, figsize=(10,5))\n",
    "bar_width = 1\n",
    "bar_l = [i for i in range(len(bear_df['charged']))]\n",
    "tick_pos = [i+(bar_width/2) for i in bar_l]\n",
    "totals = [i+j+k for i,j,k in zip(bear_df['charged'], bear_df['polar'], bear_df['hydrophobic'])]\n",
    "pre_rel = [i / j * 100 for  i,j in zip(bear_df['charged'], totals)]\n",
    "mid_rel = [i / j * 100 for  i,j in zip(bear_df['polar'], totals)]\n",
    "post_rel = [i / j * 100 for  i,j in zip(bear_df['hydrophobic'], totals)]\n",
    "ax.bar(bar_l,\n",
    "       pre_rel,\n",
    "       label='Charged',\n",
    "       alpha=0.9,\n",
    "       color='#019600',\n",
    "       width=bar_width,\n",
    "       edgecolor='white'\n",
    "       )\n",
    "ax.bar(bar_l,\n",
    "       mid_rel,\n",
    "       bottom=pre_rel,\n",
    "       label='Polar',\n",
    "       alpha=0.9,\n",
    "       color='#3C5F5A',\n",
    "       width=bar_width,\n",
    "       edgecolor='white'\n",
    "       )\n",
    "ax.bar(bar_l,\n",
    "       post_rel,\n",
    "       bottom=[i+j for i,j in zip(pre_rel, mid_rel)],\n",
    "       label='Hydrophobic',\n",
    "       alpha=0.9,\n",
    "       color='#219AD8',\n",
    "       width=bar_width,\n",
    "       edgecolor='white'\n",
    "       )\n",
    "plt.xticks(tick_pos, bear_df['species'])\n",
    "ax.set_ylabel(\"Percentage\")\n",
    "ax.set_xlabel(\"\")\n",
    "\n",
    "plt.xlim([min(tick_pos)-bar_width, max(tick_pos)+bar_width])\n",
    "plt.ylim(-10, 110)\n",
    "\n",
    "plt.setp(plt.gca().get_xticklabels(), rotation=45, horizontalalignment='right')\n",
    "\n",
    "#the following code was modified from <http://matplotlib.org/users/legend_guide.html>\n",
    "\n",
    "charged = mpatches.Patch(color='#019600', label='Charged')\n",
    "polar = mpatches.Patch(color='#3C5F5A', label='Polar')\n",
    "hydrophobic = mpatches.Patch(color='#219AD8', label='Hydrophobic')\n",
    "\n",
    "plt.legend(handles=[charged, polar, hydrophobic])\n",
    "\n",
    "\n",
    "plt.show()\n",
    "\n",
    "\n",
    "\n",
    "\n",
    "\n"
   ]
  },
  {
   "cell_type": "code",
   "execution_count": 355,
   "metadata": {
    "collapsed": false
   },
   "outputs": [
    {
     "data": {
      "text/plain": [
       "<matplotlib.text.Text at 0x10aa9eb8>"
      ]
     },
     "execution_count": 355,
     "metadata": {},
     "output_type": "execute_result"
    },
    {
     "data": {
      "image/png": "[encoded data removed]",
      "text/plain": [
       "<matplotlib.figure.Figure at 0x10087048>"
      ]
     },
     "metadata": {},
     "output_type": "display_data"
    }
   ],
   "source": [
    "#an alternative plot that is stacked as opposed to proportions\n",
    "bear_aa = bear_df.drop('mass', axis = 1)\n",
    "s_plot = bear_aa.plot(kind='bar',stacked=True,title=\"Total weight by plot and sex\")\n",
    "s_plot.set_ylabel(\"Amino Acids\")\n",
    "s_plot.set_xlabel(\"Bear Species\")"
   ]
  },
  {
   "cell_type": "markdown",
   "metadata": {},
   "source": [
    "### The cytochrome-b for these bear species seem to have extremely similar proportions of the three types of amino acids (charged, polar, and hydrophobic).  This is likely because this gene is very important to survival and therefore is highly conserved.  It is interesting that even Ursus spelaeus, the extinct bear, also has similar proportions of amino acids, which also helps support the hypothese that this gene is highly conserved."
   ]
  },
  {
   "cell_type": "markdown",
   "metadata": {},
   "source": [
    "### 8. Write the entire dataframe to a new CSV file"
   ]
  },
  {
   "cell_type": "code",
   "execution_count": 357,
   "metadata": {
    "collapsed": false
   },
   "outputs": [],
   "source": [
    "bear_df.to_csv('bears_mass_cytb.csv')"
   ]
  }
 ],
 "metadata": {
  "kernelspec": {
   "display_name": "Python 3",
   "language": "python",
   "name": "python3"
  }
 },
 "nbformat": 4,
 "nbformat_minor": 2
}
